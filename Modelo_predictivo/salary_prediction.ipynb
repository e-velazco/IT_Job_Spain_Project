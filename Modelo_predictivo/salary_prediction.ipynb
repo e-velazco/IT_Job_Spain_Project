{
 "cells": [
  {
   "cell_type": "markdown",
   "id": "85e67978-327f-4b34-86b7-9d8f45c647bb",
   "metadata": {
    "tags": []
   },
   "source": [
    "# Paquetes y Funciones"
   ]
  },
  {
   "cell_type": "code",
   "execution_count": null,
   "id": "feb7cdb7-e23c-47ef-a39d-f6f5997164bf",
   "metadata": {
    "tags": []
   },
   "outputs": [],
   "source": [
    "import nbimporter\n",
    "from funciones import *\n",
    "\n",
    "# Avisos\n",
    "import warnings\n",
    "warnings.filterwarnings(\"ignore\")"
   ]
  },
  {
   "cell_type": "markdown",
   "id": "f1a01a0d-c4ec-4d8c-a972-668ac7673758",
   "metadata": {
    "tags": []
   },
   "source": [
    "# 1. Carga datos:"
   ]
  },
  {
   "cell_type": "markdown",
   "id": "4b41807a-c974-48f3-8330-b2b66086bb49",
   "metadata": {},
   "source": [
    "### Rutas"
   ]
  },
  {
   "cell_type": "code",
   "execution_count": null,
   "id": "778ca616-e20c-427d-90a1-cc13f3264599",
   "metadata": {
    "tags": []
   },
   "outputs": [],
   "source": [
    "ruta_actual = os.getcwd()\n",
    "\n",
    "ruta_datos_procesados = ruta_actual.replace(\"Modelo_predictivo\", \"Datos/Procesados/\")\n",
    "ruta_listas = ruta_actual + \"/listas/\"\n",
    "ruta_encoders = ruta_actual + \"/encoders/\"\n",
    "ruta_modelos = ruta_actual + \"/trained_models/\""
   ]
  },
  {
   "cell_type": "code",
   "execution_count": null,
   "id": "f01a8c66-9b08-4f46-b95c-8c32f9e43473",
   "metadata": {
    "tags": []
   },
   "outputs": [],
   "source": [
    "ruta_encoders"
   ]
  },
  {
   "cell_type": "markdown",
   "id": "3914f502-51be-4063-93ca-eda4aa4af275",
   "metadata": {},
   "source": [
    "### Datos empleos"
   ]
  },
  {
   "cell_type": "code",
   "execution_count": null,
   "id": "ef369838-3a3a-4a3f-88bf-487577069e9c",
   "metadata": {
    "tags": []
   },
   "outputs": [],
   "source": [
    "df_empleos = pd.read_csv(ruta_datos_procesados + 'datos_jobs_finales.csv')"
   ]
  },
  {
   "cell_type": "code",
   "execution_count": null,
   "id": "eef05143-f02e-44a8-9e30-5772ccfec56a",
   "metadata": {
    "tags": []
   },
   "outputs": [],
   "source": [
    "df_empleos[\"categoria_empleo\"] = df_empleos[\"categoria_empleo\"].apply(lambda x: \"machine learning engineer\" if x == \"machine learning\" else x)"
   ]
  },
  {
   "cell_type": "markdown",
   "id": "f637a621-9a1b-463e-8c38-b031b71e24e9",
   "metadata": {},
   "source": [
    "## -----------------------------------------------------------------------------------------------------------------------------"
   ]
  },
  {
   "cell_type": "markdown",
   "id": "3c9d1257-1423-4714-800a-7256e33a7ba7",
   "metadata": {
    "tags": []
   },
   "source": [
    "# 2. Prepocesamiento de datos"
   ]
  },
  {
   "cell_type": "code",
   "execution_count": null,
   "id": "fde358a9-bd6b-4805-af86-9f0731affc05",
   "metadata": {
    "tags": []
   },
   "outputs": [],
   "source": [
    "rutas = [ruta_listas, ruta_encoders]\n",
    "encoders = [OneHotEncoder(), MultiLabelBinarizer()]"
   ]
  },
  {
   "cell_type": "code",
   "execution_count": null,
   "id": "eda8210c-8236-44cc-8332-f537caa9de67",
   "metadata": {
    "tags": []
   },
   "outputs": [],
   "source": [
    "df_salario_min, df_salario_max = data_preparator(df_empleos, rutas, encoders)"
   ]
  },
  {
   "cell_type": "markdown",
   "id": "3332bc04-6ed2-4158-a304-e4ba2d54bd52",
   "metadata": {},
   "source": [
    "## -----------------------------------------------------------------------------------------------------------------------------"
   ]
  },
  {
   "cell_type": "markdown",
   "id": "ddaf9656-919b-4954-b5ec-e544ffb45cff",
   "metadata": {
    "tags": []
   },
   "source": [
    "# 3. Modelos de regresión"
   ]
  },
  {
   "cell_type": "markdown",
   "id": "d03af249-e049-4c6b-869a-17e76a08bfa4",
   "metadata": {},
   "source": [
    "## 3.1. Preparación de datos"
   ]
  },
  {
   "cell_type": "markdown",
   "id": "c9e384c4-108b-425c-9341-4c3325defd45",
   "metadata": {},
   "source": [
    "- ### Salario mínimo"
   ]
  },
  {
   "cell_type": "code",
   "execution_count": null,
   "id": "4fbe44a4-6e18-473f-a6de-d1521aefce6d",
   "metadata": {
    "tags": []
   },
   "outputs": [],
   "source": [
    "X_min = df_salario_min.drop([\"salario_min\"], axis= 1)\n",
    "y_min = df_salario_min[[\"salario_min\"]]"
   ]
  },
  {
   "cell_type": "markdown",
   "id": "e91778fe-aea3-4de9-8822-862c6b87fba1",
   "metadata": {},
   "source": [
    "- ### Salario máximo"
   ]
  },
  {
   "cell_type": "code",
   "execution_count": null,
   "id": "d96cae8d-fb10-4fff-a087-8760b7e1e38a",
   "metadata": {
    "tags": []
   },
   "outputs": [],
   "source": [
    "X_max = df_salario_max.drop([\"salario_max\"], axis= 1)\n",
    "y_max = df_salario_max[[\"salario_max\"]]"
   ]
  },
  {
   "cell_type": "markdown",
   "id": "3fa5221d-ecce-4d71-b29c-e139bb82a320",
   "metadata": {},
   "source": [
    "## -----------------------------------------------------------------------------------------------------------------------------"
   ]
  },
  {
   "cell_type": "markdown",
   "id": "5616558f-a437-49ff-a2fd-31a4d14f5d7c",
   "metadata": {
    "tags": []
   },
   "source": [
    "## 3.2. Testeo de modelos"
   ]
  },
  {
   "cell_type": "code",
   "execution_count": null,
   "id": "e65b9025-3903-4a0e-b968-7e8d91cc4fa8",
   "metadata": {
    "tags": []
   },
   "outputs": [],
   "source": [
    "modelos = [LinearRegression(), RandomForestRegressor(), AdaBoostRegressor(), GradientBoostingRegressor(), SVR(), KNeighborsRegressor(), DecisionTreeRegressor(), Ridge(), Lasso(), ElasticNet(), XGBRegressor(), LinearSVR()]"
   ]
  },
  {
   "cell_type": "markdown",
   "id": "efaa17c3-dde1-4e3c-84b6-3976a577f36d",
   "metadata": {},
   "source": [
    "- ### Salario mínimo"
   ]
  },
  {
   "cell_type": "code",
   "execution_count": null,
   "id": "60aa1e0e-a4b9-460e-a9ae-84ef18069a98",
   "metadata": {
    "tags": []
   },
   "outputs": [],
   "source": [
    "MIN_SIN_PCA = model_tester(modelos, X_min, y_min)"
   ]
  },
  {
   "cell_type": "code",
   "execution_count": null,
   "id": "14ce4bbf-5f57-4b9a-9297-5d50f3569901",
   "metadata": {
    "tags": []
   },
   "outputs": [],
   "source": [
    "MIN_SIN_PCA[MIN_SIN_PCA[\"mean_r2\"] > 0.3].sort_values(by= \"mean_r2\", ascending= False)"
   ]
  },
  {
   "cell_type": "markdown",
   "id": "a26f197b-be81-4b9b-9292-d17151ee635e",
   "metadata": {},
   "source": [
    "- ### Salario máximo"
   ]
  },
  {
   "cell_type": "code",
   "execution_count": null,
   "id": "fe3e3954-2342-437d-8a5a-1ba038196ea1",
   "metadata": {
    "tags": []
   },
   "outputs": [],
   "source": [
    "MAX_SIN_PCA = model_tester(modelos, X_max, y_max)"
   ]
  },
  {
   "cell_type": "code",
   "execution_count": null,
   "id": "0e53656b-857e-49bb-a24e-44ce82243ef8",
   "metadata": {
    "tags": []
   },
   "outputs": [],
   "source": [
    "MAX_SIN_PCA[MAX_SIN_PCA[\"mean_r2\"] > 0.3].sort_values(by= \"mean_r2\", ascending= False)"
   ]
  },
  {
   "cell_type": "markdown",
   "id": "b26e6c90-47c1-44bd-911e-824867aaa1ca",
   "metadata": {},
   "source": [
    "## -----------------------------------------------------------------------------------------------------------------------------"
   ]
  },
  {
   "cell_type": "markdown",
   "id": "e4724f34-96fa-4764-9765-01bab39f648d",
   "metadata": {},
   "source": [
    "### 3.2.1. TUNING SVR y GBR"
   ]
  },
  {
   "cell_type": "code",
   "execution_count": null,
   "id": "9f18ccef-39fc-4969-a66f-ab5aa09ee648",
   "metadata": {
    "tags": []
   },
   "outputs": [],
   "source": [
    "params_SVR = {'kernel'      : ['linear', 'poly', 'rbf', 'sigmoid'],\n",
    "              'degree'      : [3, 4],\n",
    "              'gamma'       : ['scale', 'auto'],\n",
    "              'coef0'       : [-0.5, -0.4, -0.3],\n",
    "              'C'           : [0.1, 0.2, 0.3],\n",
    "              'epsilon'     : [0.01, 0.02],\n",
    "              'shrinking'   : [True],\n",
    "              'tol'         : [1e-6, 1e-5, 1e-7],\n",
    "              'cache_size'  : [50, 100, 150],\n",
    "              'verbose'     : [False],\n",
    "              'max_iter'    : [550, 600, 650],\n",
    "             }\n",
    "\n",
    "params_GBR = {'loss'             : [\"squared_error\", \"absolute_error\", \"huber\", \"quantile\"],\n",
    "              'n_estimators'     : [50, 100, 150],\n",
    "              'learning_rate'    : [0.001, 0.01, 0.1],\n",
    "              'max_depth'        : [3, 5],\n",
    "              'min_samples_split': [2, 5, 10],\n",
    "              'min_samples_leaf' : [1, 2, 4],\n",
    "              'subsample'        : [0.5, 0.7, 1.0],\n",
    "              'max_features'     : [None, 'sqrt', 'log2']\n",
    "              }\n",
    "\n",
    "modelos = [SVR(), GradientBoostingRegressor()]\n",
    "parametros = [params_SVR, params_GBR]"
   ]
  },
  {
   "cell_type": "code",
   "execution_count": null,
   "id": "2b8c840a-8c03-4f2c-b579-791a36cc9231",
   "metadata": {
    "tags": []
   },
   "outputs": [],
   "source": [
    "X_train_min, X_test_min, y_train_min, y_test_min = train_test_split(X_min, y_min, test_size = 0.2, random_state=42)\n",
    "\n",
    "resultados_min = []\n",
    "\n",
    "for modelo, params in zip(modelos, parametros):\n",
    "    resultado = tunning(modelo, params, X_train_min, X_test_min, y_train_min, y_test_min, \"min\")\n",
    "    resultados_min.append(resultado)\n",
    "    \n",
    "resultados_min = pd.concat([resultados_min[0], resultados_min[1]], axis= 0)\n",
    "resultados_min.to_csv(\"resultados_tuning_min.csv\", index= False, sep= \",\")"
   ]
  },
  {
   "cell_type": "code",
   "execution_count": null,
   "id": "5243c864-8660-4451-a4cc-b3e4eb2c26b4",
   "metadata": {
    "tags": []
   },
   "outputs": [],
   "source": [
    "resultados_min"
   ]
  },
  {
   "cell_type": "code",
   "execution_count": null,
   "id": "da98db71-21c1-446b-933a-06164eced7d1",
   "metadata": {
    "tags": []
   },
   "outputs": [],
   "source": [
    "resultados_min[resultados_min[\"Nombre\"] == \"SVR\"][\"Parametros\"].values"
   ]
  },
  {
   "cell_type": "code",
   "execution_count": null,
   "id": "2924b0a9-e4e0-4fda-bde6-1037ab4d9d22",
   "metadata": {
    "tags": []
   },
   "outputs": [],
   "source": [
    "X_train_max, X_test_max, y_train_max, y_test_max = train_test_split(X_max, y_max, test_size = 0.2, random_state=42)\n",
    "\n",
    "resultados_max = []\n",
    "\n",
    "for modelo, params in zip(modelos, parametros):\n",
    "    resultado = tunning(modelo, params, X_train_max, X_test_max, y_train_max, y_test_max, \"max\")\n",
    "    resultados_max.append(resultado)\n",
    "    \n",
    "resultados_max = pd.concat([resultados_max[0], resultados_max[1]], axis= 0)\n",
    "resultados_max.to_csv(\"resultados_tuning_max.csv\", index= False, sep= \",\")"
   ]
  },
  {
   "cell_type": "code",
   "execution_count": null,
   "id": "39c9725b-6d5d-46c4-80eb-e532bee6ef9d",
   "metadata": {
    "tags": []
   },
   "outputs": [],
   "source": [
    "resultados_max"
   ]
  },
  {
   "cell_type": "code",
   "execution_count": null,
   "id": "b79456dd-3ded-4452-9a18-94b0447bf8ae",
   "metadata": {
    "tags": []
   },
   "outputs": [],
   "source": [
    "resultados_max[resultados_max[\"Nombre\"] == \"SVR\"][\"Parametros\"].values"
   ]
  },
  {
   "cell_type": "markdown",
   "id": "76c85300-8c8d-4339-a366-60a5e1f9878e",
   "metadata": {},
   "source": [
    "## -----------------------------------------------------------------------------------------------------------------------------"
   ]
  },
  {
   "cell_type": "markdown",
   "id": "68e4d3f4-2db5-4f97-8788-44ad70732935",
   "metadata": {},
   "source": [
    "### 3.2.2. Best SVR models"
   ]
  },
  {
   "cell_type": "code",
   "execution_count": null,
   "id": "a72204e1-fb3c-4207-9909-c2fb27b73faa",
   "metadata": {
    "tags": []
   },
   "outputs": [],
   "source": [
    "modelo_SVR = SVR()\n",
    "params_SVR_min = {'kernel': ['rbf'],\n",
    "                  'degree': [3],\n",
    "                  'gamma': ['scale'],\n",
    "                  'coef0': [-0.5],\n",
    "                  'C': [0.2],\n",
    "                  'epsilon': [i/100 for i in range(1,10)],\n",
    "                  'shrinking': [True],\n",
    "                  'tol': [1e-6],\n",
    "                  'cache_size': [200],\n",
    "                  'verbose': [False],\n",
    "                  'max_iter': [i for i in range(500,710,10)],\n",
    "                 }\n",
    "    \n",
    "params_SVR_max = {'kernel': ['rbf'],\n",
    "                  'degree': [3],\n",
    "                  'gamma': ['scale'],\n",
    "                  'coef0': [-0.5],\n",
    "                  'C': [0.2],\n",
    "                  'epsilon': [i/100 for i in range(1,10)],\n",
    "                  'shrinking': [True],\n",
    "                  'tol': [1e-6],\n",
    "                  'cache_size': [200],\n",
    "                  'verbose': [False],\n",
    "                  'max_iter': [i for i in range(500,710,10)],\n",
    "                 }\n",
    "\n",
    "X_train_min, X_test_min, y_train_min, y_test_min = train_test_split(X_min, y_min, test_size = 0.2, random_state=42)\n",
    "X_train_max, X_test_max, y_train_max, y_test_max = train_test_split(X_max, y_max, test_size = 0.2, random_state=42)"
   ]
  },
  {
   "cell_type": "code",
   "execution_count": null,
   "id": "96792762-34f9-4834-b75a-4234ccec9f2c",
   "metadata": {
    "tags": []
   },
   "outputs": [],
   "source": [
    "df_resultados_tuning_min = tunning(modelo_SVR, params_SVR_min, X_train_min, X_test_min, y_train_min, y_test_min, \"min\", save= True)\n",
    "df_resultados_tuning_max = tunning(modelo_SVR, params_SVR_max, X_train_max, X_test_max, y_train_max, y_test_max, \"max\", save= True)"
   ]
  },
  {
   "cell_type": "code",
   "execution_count": null,
   "id": "15591b4e-d168-4287-b930-b956d846fd6e",
   "metadata": {
    "tags": []
   },
   "outputs": [],
   "source": [
    "df_resultados_tuning_min"
   ]
  },
  {
   "cell_type": "code",
   "execution_count": null,
   "id": "0662f8dc-7d7e-4404-a9a3-2c8556c8f996",
   "metadata": {
    "tags": []
   },
   "outputs": [],
   "source": [
    "df_resultados_tuning_min[\"Parametros\"].values"
   ]
  },
  {
   "cell_type": "code",
   "execution_count": null,
   "id": "0359cf7f-9029-451d-9a1f-b30d4b88c97c",
   "metadata": {
    "tags": []
   },
   "outputs": [],
   "source": [
    "df_resultados_tuning_max"
   ]
  },
  {
   "cell_type": "code",
   "execution_count": null,
   "id": "9a82d582-ed12-4a02-ab7f-2c3314dc87e6",
   "metadata": {
    "tags": []
   },
   "outputs": [],
   "source": [
    "df_resultados_tuning_max[\"Parametros\"].values"
   ]
  },
  {
   "cell_type": "markdown",
   "id": "5af71495-222a-493b-83fc-0517d3cea42c",
   "metadata": {},
   "source": [
    "## -----------------------------------------------------------------------------------------------------------------------------"
   ]
  },
  {
   "cell_type": "markdown",
   "id": "f4ef6357-febc-4aba-9420-6b5134cbfd50",
   "metadata": {},
   "source": [
    "## 3.3. PCA"
   ]
  },
  {
   "cell_type": "markdown",
   "id": "dd14a15a-57c6-4a51-90a0-eacb78e5447a",
   "metadata": {},
   "source": [
    "Abrir los mejores modelos guardados y probar con PCA"
   ]
  },
  {
   "cell_type": "code",
   "execution_count": null,
   "id": "13d3ae1e-8b6d-4a5e-9e47-ad4eeae60111",
   "metadata": {
    "tags": []
   },
   "outputs": [],
   "source": [
    "modelo_svr_min = load('min_model.pkl')\n",
    "modelo_svr_max = load('max_model.pkl')"
   ]
  },
  {
   "cell_type": "code",
   "execution_count": null,
   "id": "e3b386bb-0c8b-473b-96c6-c3f9a891f18c",
   "metadata": {
    "tags": []
   },
   "outputs": [],
   "source": [
    "salarios = [\"min\", \"max\"]\n",
    "modelos_svr = [modelo_svr_min, modelo_svr_max]\n",
    "X = [X_min, X_max]\n",
    "y = [y_min, y_max]"
   ]
  },
  {
   "cell_type": "code",
   "execution_count": null,
   "id": "d6c520a8-52c1-49fe-8ea1-40ee8d0f828b",
   "metadata": {
    "tags": []
   },
   "outputs": [],
   "source": [
    "df_resultados_PCA = pca_tester(salarios, modelos_svr, X, y)"
   ]
  },
  {
   "cell_type": "code",
   "execution_count": null,
   "id": "7c067e06-40d3-4573-aa60-ccaf11ae26a9",
   "metadata": {
    "tags": []
   },
   "outputs": [],
   "source": [
    "df_resultados_PCA[df_resultados_PCA[\"salario\"] == \"min\"].sort_values(by= \"R2\", ascending= False).head(1)"
   ]
  },
  {
   "cell_type": "code",
   "execution_count": null,
   "id": "6aebf879-2e65-466a-b861-a9ff48500b6b",
   "metadata": {
    "tags": []
   },
   "outputs": [],
   "source": [
    "df_resultados_PCA[df_resultados_PCA[\"salario\"] == \"max\"].sort_values(by= \"R2\", ascending= False).head(1)"
   ]
  },
  {
   "cell_type": "markdown",
   "id": "0fe959ba-4515-4ad1-8a6e-2dabd92c084e",
   "metadata": {},
   "source": [
    "### 3.3.1. TUNING SVR con PCA"
   ]
  },
  {
   "cell_type": "code",
   "execution_count": null,
   "id": "c2a61f00-52af-44a0-8861-88ca5289eefb",
   "metadata": {
    "tags": []
   },
   "outputs": [],
   "source": [
    "pca_min = PCA(128, random_state=42)\n",
    "pca_max = PCA(128, random_state=42)\n",
    "\n",
    "\n",
    "X_min_pca = pca_min.fit_transform(X_min)\n",
    "#with open(\"pca_min.pickle\", 'wb') as archivo:\n",
    "    #pickle.dump(pca_min, archivo)\n",
    "        \n",
    "X_max_pca = pca_max.fit_transform(X_max)\n",
    "#with open(\"pca_max.pickle\", 'wb') as archivo:\n",
    "    #pickle.dump(pca_max, archivo)        "
   ]
  },
  {
   "cell_type": "code",
   "execution_count": null,
   "id": "f4bd97e6-2ee8-4307-b464-a958cf58d568",
   "metadata": {
    "tags": []
   },
   "outputs": [],
   "source": [
    "modelo_SVR = SVR()\n",
    "params_SVR_min = {'kernel'      : ['linear', 'poly', 'rbf', 'sigmoid'],\n",
    "                  'degree'      : [3, 4],\n",
    "                  'gamma'       : ['scale', 'auto'],\n",
    "                  'coef0'       : [-0.5, -0.4, -0.3],\n",
    "                  'C'           : [0.1, 0.2, 0.3],\n",
    "                  'epsilon'     : [i/100 for i in range(1,10)],\n",
    "                  'shrinking'   : [True],\n",
    "                  'tol'         : [1e-6, 1e-5, 1e-7],\n",
    "                  'cache_size'  : [200],\n",
    "                  'verbose'     : [False],\n",
    "                  'max_iter'    : [550, 600, 650],\n",
    "                 }\n",
    "    \n",
    "params_SVR_max = {'kernel'      : ['linear', 'poly', 'rbf', 'sigmoid'],\n",
    "                  'degree'      : [3, 4],\n",
    "                  'gamma'       : ['scale', 'auto'],\n",
    "                  'coef0'       : [-0.5, -0.4, -0.3],\n",
    "                  'C'           : [0.1, 0.2, 0.3],\n",
    "                  'epsilon'     : [i/100 for i in range(1,10)],\n",
    "                  'shrinking'   : [True],\n",
    "                  'tol'         : [1e-6, 1e-5, 1e-7],\n",
    "                  'cache_size'  : [200],\n",
    "                  'verbose'     : [False],\n",
    "                  'max_iter'    : [550, 600, 650],\n",
    "                 }\n",
    "\n",
    "X_train_min, X_test_min, y_train_min, y_test_min = train_test_split(X_min_pca, y_min, test_size = 0.2, random_state=42)\n",
    "X_train_max, X_test_max, y_train_max, y_test_max = train_test_split(X_max_pca, y_max, test_size = 0.2, random_state=42)"
   ]
  },
  {
   "cell_type": "code",
   "execution_count": null,
   "id": "e59336be-f98b-4669-a13b-a6057833c642",
   "metadata": {
    "tags": []
   },
   "outputs": [],
   "source": [
    "df_resultados_tuning_min = tunning(modelo_SVR, params_SVR_min, X_train_min, X_test_min, y_train_min, y_test_min, \"min\")\n",
    "df_resultados_tuning_max = tunning(modelo_SVR, params_SVR_max, X_train_max, X_test_max, y_train_max, y_test_max, \"max\")"
   ]
  },
  {
   "cell_type": "code",
   "execution_count": null,
   "id": "2a60981b-daa5-4b98-b82e-fe64912e2d33",
   "metadata": {
    "tags": []
   },
   "outputs": [],
   "source": [
    "df_resultados_tuning_min"
   ]
  },
  {
   "cell_type": "code",
   "execution_count": null,
   "id": "f908acb5-9341-4007-b85a-b1288fb7406f",
   "metadata": {
    "tags": []
   },
   "outputs": [],
   "source": [
    "df_resultados_tuning_min[\"Parametros\"].values"
   ]
  },
  {
   "cell_type": "code",
   "execution_count": null,
   "id": "b681c141-1108-4071-b259-275be3d25bce",
   "metadata": {
    "tags": []
   },
   "outputs": [],
   "source": [
    "df_resultados_tuning_max"
   ]
  },
  {
   "cell_type": "code",
   "execution_count": null,
   "id": "bf29a5db-b8a9-4060-91ca-2109fbabf47d",
   "metadata": {
    "tags": []
   },
   "outputs": [],
   "source": [
    "df_resultados_tuning_max[\"Parametros\"].values"
   ]
  },
  {
   "cell_type": "markdown",
   "id": "c9bfa7c8-b912-41b0-aaaf-9f5d41d2f5b5",
   "metadata": {},
   "source": [
    "## -----------------------------------------------------------------------------------------------------------------------------"
   ]
  },
  {
   "cell_type": "code",
   "execution_count": null,
   "id": "364778ad-339e-47c5-8572-0e6eb8ee8bf9",
   "metadata": {
    "tags": []
   },
   "outputs": [],
   "source": [
    "modelo_SVR = SVR()\n",
    "params_SVR_min = {'kernel': ['rbf'],\n",
    "                  'degree': [3],\n",
    "                  'gamma': ['scale'],\n",
    "                  'coef0': [-0.5],\n",
    "                  'C': [0.2],\n",
    "                  'epsilon': [i/100 for i in range(1,10)],\n",
    "                  'shrinking': [True],\n",
    "                  'tol': [1e-6],\n",
    "                  'cache_size': [200],\n",
    "                  'verbose': [False],\n",
    "                  'max_iter': [i for i in range(500,710,10)],\n",
    "                 }\n",
    "    \n",
    "params_SVR_max = {'kernel': ['rbf'],\n",
    "                  'degree': [3],\n",
    "                  'gamma': ['scale'],\n",
    "                  'coef0': [-0.5],\n",
    "                  'C': [0.2],\n",
    "                  'epsilon': [i/100 for i in range(1,10)],\n",
    "                  'shrinking': [True],\n",
    "                  'tol': [1e-6],\n",
    "                  'cache_size': [200],\n",
    "                  'verbose': [False],\n",
    "                  'max_iter': [i for i in range(500,710,10)],\n",
    "                 }\n",
    "\n",
    "df_resultados_tuning_min = tunning(modelo_SVR, params_SVR_min, X_train_min, X_test_min, y_train_min, y_test_min, \"min\", save= True)\n",
    "df_resultados_tuning_max = tunning(modelo_SVR, params_SVR_max, X_train_max, X_test_max, y_train_max, y_test_max, \"max\", save= True)\n",
    "df_resultados = pd.concat([df_resultados_tuning_min, df_resultados_tuning_max], axis= 0)"
   ]
  },
  {
   "cell_type": "code",
   "execution_count": null,
   "id": "781017e2-8c13-44a2-b803-551d370432b4",
   "metadata": {
    "tags": []
   },
   "outputs": [],
   "source": [
    "df_resultados"
   ]
  },
  {
   "cell_type": "markdown",
   "id": "8161ddbd-f140-4ba5-b066-9397219f2c32",
   "metadata": {},
   "source": [
    "## -----------------------------------------------------------------------------------------------------------------------------"
   ]
  },
  {
   "cell_type": "markdown",
   "id": "10c57333-d0c7-454b-a612-9cd8146cf76f",
   "metadata": {},
   "source": [
    "# 4. Testing modelos con nuevos datos de entrada:"
   ]
  },
  {
   "cell_type": "markdown",
   "id": "4699d086-ea94-46ae-923c-408dcc13b63c",
   "metadata": {},
   "source": [
    "## Pipeline procesamiento de datos de entrada\n",
    "\n",
    "    - Hago encoding columnas\n",
    "    - Encoding herramientas\n",
    "    - Transformación log\n",
    "    - Limpio columnas   "
   ]
  },
  {
   "cell_type": "markdown",
   "id": "dc378314-a45e-4890-80d5-5c54c4784b7d",
   "metadata": {
    "tags": []
   },
   "source": [
    "- ### Datos de entrada:"
   ]
  },
  {
   "cell_type": "code",
   "execution_count": null,
   "id": "79f85abd-df14-40a7-bbd9-5001057e1da8",
   "metadata": {
    "tags": []
   },
   "outputs": [],
   "source": [
    "herramientas = [\"python\", \"sql\", \"ia\", \"machine learning\"]\n",
    "jornada = \"jornada completa\"\n",
    "experiencia = 1\n",
    "tipo_contrato = \"indefinido\"\n",
    "beneficios = False\n",
    "comunidad = \"Galicia\"\n",
    "categoria_empleo = \"data driven\"\n",
    "\n",
    "X_datos = {\"herramientas\": [herramientas],\"jornada\": [jornada],\"experiencia\": [experiencia],\"tipo_contrato\": [tipo_contrato],\"beneficios\": [beneficios],\"comunidad\": [comunidad],\"categoria_empleo\": [categoria_empleo]}\n",
    "\n",
    "X = pd.DataFrame(X_datos)"
   ]
  },
  {
   "cell_type": "code",
   "execution_count": null,
   "id": "019ac36b-7f64-43a9-823a-65387f07b1c0",
   "metadata": {
    "tags": []
   },
   "outputs": [],
   "source": [
    "X"
   ]
  },
  {
   "cell_type": "markdown",
   "id": "6f344c68-2f4b-42fd-83fa-a437223e7f9a",
   "metadata": {
    "tags": []
   },
   "source": [
    "- ### Transformo los datos de entrada:"
   ]
  },
  {
   "cell_type": "code",
   "execution_count": null,
   "id": "fd6eb333-8e90-403e-a18c-8564ad8225d5",
   "metadata": {
    "tags": []
   },
   "outputs": [],
   "source": [
    "X_testeo_min, X_testeo_max = data_transformer(X, ruta_encoders, ruta_modelos)"
   ]
  },
  {
   "cell_type": "code",
   "execution_count": null,
   "id": "c999aca2-a7e7-46a7-b9d4-ecd37be2daad",
   "metadata": {
    "tags": []
   },
   "outputs": [],
   "source": [
    "# Cargo modelos:\n",
    "modelo_svr_min = load(ruta_modelos + 'min_model.pkl')\n",
    "modelo_svr_max = load(ruta_modelos + 'max_model.pkl')"
   ]
  },
  {
   "cell_type": "markdown",
   "id": "81716fb3-c333-4a04-a8f1-dceea49da0fb",
   "metadata": {},
   "source": [
    "## - Predicción salario:"
   ]
  },
  {
   "cell_type": "code",
   "execution_count": null,
   "id": "5eb72bf0-32a1-4964-938a-76c26f8dcec4",
   "metadata": {
    "tags": []
   },
   "outputs": [],
   "source": [
    "salario_minimo_predicho = np.exp(modelo_svr_min.predict(X_testeo_min))\n",
    "salario_maximo_predicho = np.exp(modelo_svr_max.predict(X_testeo_max))\n",
    "print(f\"El rango salarial con estas características es de {round(int(salario_minimo_predicho), -2)} a {round(int(salario_maximo_predicho), -2)} € brutos anuales.\")"
   ]
  },
  {
   "cell_type": "markdown",
   "id": "f0284f8a-fc43-4ee4-a047-48a0af27a370",
   "metadata": {},
   "source": [
    "## -----------------------------------------------------------------------------------------------------------------------------"
   ]
  },
  {
   "cell_type": "markdown",
   "id": "9c6b43a4-aa3a-45b9-8173-e759a2431c12",
   "metadata": {},
   "source": [
    "## -----------------------------------------------------------------------------------------------------------------------------"
   ]
  },
  {
   "cell_type": "markdown",
   "id": "3b562d3c-08ac-4c1b-8736-6bc5a9ee6172",
   "metadata": {},
   "source": [
    "# 4. Redes Neuronales"
   ]
  },
  {
   "cell_type": "code",
   "execution_count": null,
   "id": "13a7efbe-58c0-4e9d-971d-db4ea911c558",
   "metadata": {
    "tags": []
   },
   "outputs": [],
   "source": [
    "from tensorflow.keras.models import Sequential\n",
    "from tensorflow.keras.layers import RNN, Dense, LSTM, Embedding, Input\n",
    "from tensorflow.keras.optimizers import Adam\n",
    "\n",
    "from sklearn.preprocessing import OneHotEncoder, StandardScaler\n",
    "from tensorflow.keras.callbacks import EarlyStopping, ModelCheckpoint\n",
    "from tensorflow.keras.layers import BatchNormalization\n",
    "from keras.layers import Dense, Flatten, Dropout, Activation\n",
    "from keras.callbacks import ReduceLROnPlateau"
   ]
  },
  {
   "cell_type": "code",
   "execution_count": null,
   "id": "0cffaa64-acfe-44fe-a7db-e51431f4d188",
   "metadata": {
    "tags": []
   },
   "outputs": [],
   "source": [
    "# Escalado:\n",
    "scaler = StandardScaler()\n",
    "X_min_scaled = scaler.fit_transform(X_min)"
   ]
  },
  {
   "cell_type": "code",
   "execution_count": null,
   "id": "dbb2b269-4d7e-4b9b-bdf9-cb4f759ad739",
   "metadata": {
    "tags": []
   },
   "outputs": [],
   "source": [
    "X_min = X_min.values.astype(int)"
   ]
  },
  {
   "cell_type": "code",
   "execution_count": null,
   "id": "f8bb794c-7714-4226-8fe3-8f071d0484f8",
   "metadata": {
    "tags": []
   },
   "outputs": [],
   "source": [
    "X_train, X_test, y_train, y_test = train_test_split(X_min, y_min, test_size = 0.2, random_state=42)"
   ]
  },
  {
   "cell_type": "code",
   "execution_count": null,
   "id": "6154f5e8-ff07-4f1c-9a0e-8b07daa4904b",
   "metadata": {
    "tags": []
   },
   "outputs": [],
   "source": [
    "X_train, X_val, y_train, y_val = train_test_split(X_train, y_train, test_size = 0.2, random_state=42)"
   ]
  },
  {
   "cell_type": "code",
   "execution_count": null,
   "id": "119864c1-2420-46b8-8d6b-2f69ef22e5e4",
   "metadata": {},
   "outputs": [],
   "source": []
  },
  {
   "cell_type": "code",
   "execution_count": null,
   "id": "cf9af2b6-7941-4822-be93-a67de6029f41",
   "metadata": {
    "tags": []
   },
   "outputs": [],
   "source": [
    "# Model definition\n",
    "np.random.seed(42)\n",
    "model = Sequential()\n",
    "\n",
    "model.add(Dense(units = 200, input_shape= (X_train.shape[1],), activation=\"linear\"))  # Adjust input shape\n",
    "model.add(Activation(\"relu\"))\n",
    "model.add(Dropout(0.2))\n",
    "\n",
    "model.add(Dense(units = 128))\n",
    "model.add(Activation(\"relu\"))\n",
    "model.add(Dropout(0.2))\n",
    "\n",
    "model.add(Dense(units = 64))\n",
    "model.add(Activation(\"relu\"))\n",
    "model.add(Dropout(0.2))\n",
    "\n",
    "# Hidden layers (optional, experiment with number and neurons)\n",
    "##model.add(Dense(128, activation=\"relu\"))\n",
    "#model.add(Dense(64, activation=\"relu\"))\n",
    "#model.add(Dense(32, activation=\"relu\"))\n",
    "\n",
    "model.add(Dense(1, activation=\"linear\"))  # Output layer for regression\n",
    "\n",
    "# Model compilation\n",
    "model.compile(loss=\"mse\", optimizer=Adam(learning_rate=0.001))  # Adjust loss and optimizer as needed\n",
    "\n",
    "#model.summary()"
   ]
  },
  {
   "cell_type": "code",
   "execution_count": null,
   "id": "b0f9e4f0-8125-4e0d-b19e-b012f2d66129",
   "metadata": {
    "tags": []
   },
   "outputs": [],
   "source": [
    "# Early stopping to prevent overfitting\n",
    "early_stopping = EarlyStopping(monitor=\"val_loss\", patience= 5)\n",
    "\n",
    "# Model training\n",
    "history = model.fit(X_train,\n",
    "                    y_train.values,\n",
    "                    validation_data=(X_val, y_val.values),\n",
    "                    epochs= 100,\n",
    "                    #batch_size= 100,\n",
    "                    callbacks=[early_stopping],\n",
    "                    verbose = 1\n",
    ")\n",
    "\n",
    "# Model evaluation on test set\n",
    "model.evaluate(X_test, y_test.values)"
   ]
  },
  {
   "cell_type": "code",
   "execution_count": null,
   "id": "1973f4d8-cd52-4db2-ba92-2d5362f3ba38",
   "metadata": {
    "tags": []
   },
   "outputs": [],
   "source": [
    "# loss\n",
    "plt.plot(history.history[\"loss\"], label = \"loss\")\n",
    "plt.legend()\n",
    "plt.show()"
   ]
  },
  {
   "cell_type": "code",
   "execution_count": null,
   "id": "338c06c1-549e-4c95-a3e1-db9ed21b7f29",
   "metadata": {
    "tags": []
   },
   "outputs": [],
   "source": [
    "y_pred = model.predict(X_test)"
   ]
  },
  {
   "cell_type": "code",
   "execution_count": null,
   "id": "c63f0c24-44e2-4eac-9cb2-a19687049d5a",
   "metadata": {
    "tags": []
   },
   "outputs": [],
   "source": [
    "r2_score_results = r2_score(y_test, y_pred)\n",
    "mean_squared_error_results = mean_squared_error(y_test, y_pred)\n",
    "mean_absolute_error_results = mean_absolute_error(y_test, y_pred)"
   ]
  },
  {
   "cell_type": "code",
   "execution_count": null,
   "id": "a9af7e7f-4d86-4b32-8d54-1cac4ac0489e",
   "metadata": {
    "tags": []
   },
   "outputs": [],
   "source": [
    "print(r2_score_results)\n",
    "print(mean_squared_error_results)\n",
    "print(mean_absolute_error_results)"
   ]
  },
  {
   "cell_type": "code",
   "execution_count": null,
   "id": "e3a8c891-48ea-41cc-b5a2-ad0a994c9706",
   "metadata": {},
   "outputs": [],
   "source": []
  },
  {
   "cell_type": "code",
   "execution_count": null,
   "id": "3ecac718-fe5f-4c16-a9fc-5e0de02124da",
   "metadata": {},
   "outputs": [],
   "source": []
  },
  {
   "cell_type": "code",
   "execution_count": null,
   "id": "7b5a0f3d-9c38-423f-9fed-79dc84b7a7a3",
   "metadata": {},
   "outputs": [],
   "source": []
  },
  {
   "cell_type": "code",
   "execution_count": null,
   "id": "4a6f4bae-8ba5-4d4f-8399-04a565bc0b43",
   "metadata": {},
   "outputs": [],
   "source": []
  },
  {
   "cell_type": "code",
   "execution_count": null,
   "id": "3001b7e3-40a9-4c67-8196-bd367c239059",
   "metadata": {
    "tags": []
   },
   "outputs": [],
   "source": [
    "import tensorflow as tf\n",
    "from tensorflow.keras import Sequential\n"
   ]
  },
  {
   "cell_type": "code",
   "execution_count": null,
   "id": "da583c96-2c4f-4505-a8a4-96a3a6de4df9",
   "metadata": {
    "tags": []
   },
   "outputs": [],
   "source": [
    "X = df_salario_max.drop([\"salario_max\"], axis= 1)\n",
    "y = df_salario_max[[\"salario_max\"]]\n",
    "\n",
    "X_train, X_test, y_train, y_test = train_test_split(X, y, test_size = 0.2)"
   ]
  },
  {
   "cell_type": "code",
   "execution_count": null,
   "id": "51829d98-5bc9-4fd1-9b56-9b1e291b697d",
   "metadata": {
    "tags": []
   },
   "outputs": [],
   "source": [
    "def create_regression_model(input_shape):\n",
    "    model = tf.keras.Sequential([\n",
    "        tf.keras.layers.Dense(64, activation='relu', input_shape=(input_shape,)),\n",
    "        tf.keras.layers.Dense(64, activation='relu'),\n",
    "        tf.keras.layers.Dense(1) \n",
    "    ])\n",
    "\n",
    "    model.compile(optimizer= \"adam\", loss='mean_squared_error')\n",
    "    \n",
    "    return model\n",
    "\n",
    "imput_shape = X.shape[1]\n",
    "\n",
    "regression_model = create_regression_model(imput_shape)\n",
    "\n",
    "regression_model.summary()"
   ]
  },
  {
   "cell_type": "code",
   "execution_count": null,
   "id": "2e9da3b7-af64-4e16-8241-5fe403adeae6",
   "metadata": {
    "tags": []
   },
   "outputs": [],
   "source": [
    "history = regression_model.fit(X_train.values.astype(int), y_train.values, epochs= 100)"
   ]
  },
  {
   "cell_type": "code",
   "execution_count": null,
   "id": "ba84de83-7466-405e-93c3-861566cc1304",
   "metadata": {
    "tags": []
   },
   "outputs": [],
   "source": [
    "# loss\n",
    "plt.plot(history.history[\"loss\"], label = \"loss\")\n",
    "plt.legend()\n",
    "plt.show()"
   ]
  },
  {
   "cell_type": "code",
   "execution_count": null,
   "id": "10b641ce-91b1-46f8-8cac-0634f94e28c0",
   "metadata": {
    "tags": []
   },
   "outputs": [],
   "source": [
    "y_pred = regression_model.predict(X_test.values.astype(int))"
   ]
  },
  {
   "cell_type": "code",
   "execution_count": null,
   "id": "f7eb442e-c613-4a35-95ba-ec5136de042c",
   "metadata": {
    "tags": []
   },
   "outputs": [],
   "source": [
    "r2_score_results = r2_score(y_test, y_pred)\n",
    "mean_squared_error_results = mean_squared_error(y_test, y_pred)\n",
    "mean_absolute_error_results = mean_absolute_error(y_test, y_pred)"
   ]
  },
  {
   "cell_type": "code",
   "execution_count": null,
   "id": "d8c18333-e5ee-4b5d-a568-140acade2347",
   "metadata": {
    "tags": []
   },
   "outputs": [],
   "source": [
    "print(r2_score_results)\n",
    "print(mean_squared_error_results)\n",
    "print(mean_absolute_error_results)"
   ]
  },
  {
   "cell_type": "code",
   "execution_count": null,
   "id": "e5e14302-6801-4c0d-a928-7234947a71a1",
   "metadata": {
    "tags": []
   },
   "outputs": [],
   "source": []
  },
  {
   "cell_type": "code",
   "execution_count": null,
   "id": "84fd98eb-49a7-418a-aa4b-93e608743101",
   "metadata": {},
   "outputs": [],
   "source": []
  },
  {
   "cell_type": "code",
   "execution_count": null,
   "id": "7c0eb1dc-7c96-406d-a902-382e8dbcb331",
   "metadata": {},
   "outputs": [],
   "source": []
  },
  {
   "cell_type": "code",
   "execution_count": null,
   "id": "6e877a58-0771-402f-870d-2ef3b5b0ee5c",
   "metadata": {},
   "outputs": [],
   "source": []
  },
  {
   "cell_type": "code",
   "execution_count": null,
   "id": "c3961172-ec2c-478a-92c6-32767b13cd76",
   "metadata": {},
   "outputs": [],
   "source": []
  },
  {
   "cell_type": "code",
   "execution_count": null,
   "id": "b069d787-4230-43ca-9bf1-b29a8faf5be6",
   "metadata": {},
   "outputs": [],
   "source": []
  },
  {
   "cell_type": "code",
   "execution_count": null,
   "id": "88a795c4-a4eb-4360-b1b9-5feff128abdc",
   "metadata": {},
   "outputs": [],
   "source": []
  },
  {
   "cell_type": "code",
   "execution_count": null,
   "id": "2dee565a-926a-4dc1-b191-2c67bd3de127",
   "metadata": {},
   "outputs": [],
   "source": []
  },
  {
   "cell_type": "code",
   "execution_count": null,
   "id": "91609e08-0887-468f-8597-c2428f90118f",
   "metadata": {},
   "outputs": [],
   "source": []
  },
  {
   "cell_type": "code",
   "execution_count": null,
   "id": "10052414-816d-4b2b-9453-7a813fd6431d",
   "metadata": {
    "tags": []
   },
   "outputs": [],
   "source": [
    "# Para graficar:\n",
    "\n",
    "modelo_gbr = GradientBoostingRegressor()\n",
    "df_salario_max.columns = df_salario_max.columns.astype(str)\n",
    "modelo_gbr.fit(X_train, y_train)\n",
    "y_pred = modelo_gbr.predict(X_test)"
   ]
  },
  {
   "cell_type": "code",
   "execution_count": null,
   "id": "588d627c-171b-4096-9581-2860817eeea0",
   "metadata": {
    "tags": []
   },
   "outputs": [],
   "source": [
    "test_y = y_test[\"salario_max\"].values.flatten()"
   ]
  },
  {
   "cell_type": "code",
   "execution_count": null,
   "id": "a8631d88-aae2-4f57-8aa7-66959ba2bc17",
   "metadata": {
    "tags": []
   },
   "outputs": [],
   "source": [
    "pred_y = y_pred.flatten()"
   ]
  },
  {
   "cell_type": "code",
   "execution_count": null,
   "id": "c9602575-bc14-44b9-8826-282bd948d633",
   "metadata": {
    "tags": []
   },
   "outputs": [],
   "source": [
    "sns.scatterplot(x= test_y, y= pred_y)"
   ]
  },
  {
   "cell_type": "code",
   "execution_count": null,
   "id": "b6d2c632-eb50-4f22-b908-143fd293152b",
   "metadata": {},
   "outputs": [],
   "source": []
  },
  {
   "cell_type": "code",
   "execution_count": null,
   "id": "722d8135-faf8-4bdf-810c-68e3a13a06cb",
   "metadata": {},
   "outputs": [],
   "source": []
  }
 ],
 "metadata": {
  "kernelspec": {
   "display_name": "Python 3 (ipykernel)",
   "language": "python",
   "name": "python3"
  },
  "language_info": {
   "codemirror_mode": {
    "name": "ipython",
    "version": 3
   },
   "file_extension": ".py",
   "mimetype": "text/x-python",
   "name": "python",
   "nbconvert_exporter": "python",
   "pygments_lexer": "ipython3",
   "version": "3.11.5"
  }
 },
 "nbformat": 4,
 "nbformat_minor": 5
}
